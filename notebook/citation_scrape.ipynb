{
 "cells": [
  {
   "cell_type": "markdown",
   "metadata": {
    "collapsed": true,
    "pycharm": {
     "name": "#%% md\n"
    }
   },
   "source": [
    "# Citation Scrape\n",
    "This notebook look at obtaining the citations and their relations from UK Public General Acts (UKPGA).\n",
    "<br><br>\n",
    "This is achieved by loading in a csv file containing all current acts under the category (as of 2022-06-27),\n",
    "then using id of each document to access their official document hosted on [legislation.gov.uk](www.legislation.gov.uk).\n",
    "Each document is stored in an .xhtml file format that follows the LegalDocML schema. Therefore, scraping the hosted\n",
    "webpage, searching for `a` tags that contain `class=\"LegCitation\"` will get every citation found within the document.\n",
    "<br><br>\n",
    "We then look to labelling each citation into their respective relation to the current document. By looking at the\n",
    "parent text surrounding the citation (the text before and after the citation), for the majority of citations, we can\n",
    "identify the relationship. This can be achieved by looking for keywords for the relationship within the text, where a match is found then\n",
    "the citation can be labelled with said relation.\n",
    "<br><br>\n",
    "Finally, all the cited documents and their citation relation graph is then stored in a csv file."
   ]
  },
  {
   "cell_type": "markdown",
   "source": [
    "## Imports"
   ],
   "metadata": {
    "collapsed": false
   }
  },
  {
   "cell_type": "code",
   "execution_count": null,
   "outputs": [],
   "source": [
    "import requests\n",
    "import os\n",
    "import csv\n",
    "import pandas as pd\n",
    "from bs4 import BeautifulSoup\n",
    "from re import search, IGNORECASE"
   ],
   "metadata": {
    "collapsed": false,
    "pycharm": {
     "name": "#%%\n"
    }
   }
  },
  {
   "cell_type": "markdown",
   "source": [
    "## Opening the files"
   ],
   "metadata": {
    "collapsed": false
   }
  },
  {
   "cell_type": "markdown",
   "source": [
    "### File Paths"
   ],
   "metadata": {
    "collapsed": false,
    "pycharm": {
     "name": "#%% md\n"
    }
   }
  },
  {
   "cell_type": "code",
   "execution_count": null,
   "outputs": [],
   "source": [
    "LEGISLATION_LIST_FILE_PATH = '# ENTER LEGISLATION LIST FILE PATH HERE'\n",
    "LABEL_FILE_PATH = '# ENTER LABEL FILE PATH HERE'\n",
    "CITATION_NETWORK_FILE_PATH = '# ENTER CITATION NETWORK FILE PATH HERE'"
   ],
   "metadata": {
    "collapsed": false,
    "pycharm": {
     "name": "#%%\n"
    }
   }
  },
  {
   "cell_type": "markdown",
   "source": [
    "### List of Legislation"
   ],
   "metadata": {
    "collapsed": false
   }
  },
  {
   "cell_type": "code",
   "execution_count": null,
   "outputs": [],
   "source": [
    "legislation_df = pd.read_csv(LEGISLATION_LIST_FILE_PATH)\n",
    "legislation_list = zip(legislation_df['type'], legislation_df['year'], legislation_df['number'])"
   ],
   "metadata": {
    "collapsed": false,
    "pycharm": {
     "name": "#%%\n"
    }
   }
  },
  {
   "cell_type": "markdown",
   "source": [
    "### List of Keywords / Labels"
   ],
   "metadata": {
    "collapsed": false,
    "pycharm": {
     "name": "#%% md\n"
    }
   }
  },
  {
   "cell_type": "code",
   "execution_count": null,
   "outputs": [],
   "source": [
    "def get_labels():\n",
    "    with open(LABEL_FILE_PATH, encoding='utf-8') as f:\n",
    "        labels = f.read().split('\\n')"
   ],
   "metadata": {
    "collapsed": false,
    "pycharm": {
     "name": "#%%\n"
    }
   }
  },
  {
   "cell_type": "markdown",
   "source": [
    "## Scraping"
   ],
   "metadata": {
    "collapsed": false
   }
  },
  {
   "cell_type": "markdown",
   "source": [
    "### Opening URL"
   ],
   "metadata": {
    "collapsed": false,
    "pycharm": {
     "name": "#%% md\n"
    }
   }
  },
  {
   "cell_type": "code",
   "execution_count": null,
   "outputs": [],
   "source": [
    "def get_from_url(doc_id):\n",
    "    url = f'https://www.legislation.gov.uk/{doc_id}/data.xht?view=snippet&wrap=true'\n",
    "    r = requests.get(url)\n",
    "    return BeautifulSoup(r.content)"
   ],
   "metadata": {
    "collapsed": false,
    "pycharm": {
     "name": "#%%\n"
    }
   }
  },
  {
   "cell_type": "markdown",
   "source": [
    "### Extraction of Citations"
   ],
   "metadata": {
    "collapsed": false,
    "pycharm": {
     "name": "#%% md\n"
    }
   }
  },
  {
   "cell_type": "code",
   "execution_count": null,
   "outputs": [],
   "source": [
    "def get_citations(doc_soup):\n",
    "    return doc_soup.find_all('a', 'LegCitation')"
   ],
   "metadata": {
    "collapsed": false,
    "pycharm": {
     "name": "#%%\n"
    }
   }
  },
  {
   "cell_type": "markdown",
   "source": [
    "### Extraction of Parent Text"
   ],
   "metadata": {
    "collapsed": false,
    "pycharm": {
     "name": "#%% md\n"
    }
   }
  },
  {
   "cell_type": "code",
   "execution_count": null,
   "outputs": [],
   "source": [
    "def get_parent_text(citation_list):\n",
    "    citation_passage_list = []\n",
    "    for citation in citation_list:\n",
    "        citation_passage_list.append(citation.parent.parent.text)\n",
    "    return citation_passage_list"
   ],
   "metadata": {
    "collapsed": false,
    "pycharm": {
     "name": "#%%\n"
    }
   }
  },
  {
   "cell_type": "markdown",
   "source": [
    "## Labelling of Citations"
   ],
   "metadata": {
    "collapsed": false
   }
  },
  {
   "cell_type": "markdown",
   "source": [
    "### Keyword Identification"
   ],
   "metadata": {
    "collapsed": false
   }
  },
  {
   "cell_type": "code",
   "execution_count": null,
   "outputs": [],
   "source": [
    "def label_citations(citations, parent_text):\n",
    "    labels = get_labels()\n",
    "    citation_passage_label_list = []\n",
    "    for i in range(len(citations)):\n",
    "        passage = parent_text[i]\n",
    "        for label in labels:\n",
    "            if search(label, str(passage), IGNORECASE):\n",
    "                citation_passage_label_list.append([label, citations[i].get('href')])\n",
    "                break\n",
    "    return citation_passage_label_list"
   ],
   "metadata": {
    "collapsed": false,
    "pycharm": {
     "name": "#%%\n"
    }
   }
  },
  {
   "cell_type": "markdown",
   "source": [
    "### Generation of Valid URLs"
   ],
   "metadata": {
    "collapsed": false
   }
  },
  {
   "cell_type": "code",
   "execution_count": null,
   "outputs": [],
   "source": [
    "def get_data_urls(citations):\n",
    "    urls = []\n",
    "    for citation in citations:\n",
    "        valid_citation = True\n",
    "        citation_elements = citation.split('/')\n",
    "\n",
    "        if citation_elements[0] != 'https:' and citation_elements[0] != 'http:':\n",
    "            citation_elements = ('https://www.legislation.gov.uk' + citation).split('/')\n",
    "\n",
    "        if len(citation_elements) < 4:\n",
    "            valid_citation = False\n",
    "\n",
    "        elif citation_elements[2] == 'www.opsi.gov.uk':\n",
    "            citation_elements[2] = 'www.legislation.gov.uk'\n",
    "            if citation_elements[3] == 'legislation':\n",
    "                if citation_elements[4] == 'european':\n",
    "                    if citation_elements[5] == 'directive':\n",
    "                        citation_elements[4] = 'eudr'\n",
    "                        citation_elements.pop(5)\n",
    "                citation_elements.pop(3)\n",
    "\n",
    "        elif citation_elements[3] == 'id':\n",
    "            citation_elements.pop(3)\n",
    "\n",
    "        elif citation_elements[3] == 'european':\n",
    "            if citation_elements[4] == 'regulation':\n",
    "                citation_elements[3] = 'eur'\n",
    "            elif citation_elements[4] == 'decision':\n",
    "                citation_elements[3] = 'eudn'\n",
    "            elif citation_elements[4] == 'directive':\n",
    "                citation_elements[3] = 'eudr'\n",
    "            else:\n",
    "                raise ValueError(f'Not sure what to do for {\"/\".join(citation_elements)}')\n",
    "            citation_elements.pop(4)\n",
    "\n",
    "        elif citation_elements[3] == 'uksi' or citation_elements[3] == 'ukpga' or citation_elements[3] == 'ukcm' \\\n",
    "                or citation_elements[3] == 'ssi' or citation_elements[3] == 'nisr':\n",
    "            pass\n",
    "\n",
    "        elif citation_elements[3] == 'ukci' and '-' in citation_elements[4]:\n",
    "            valid_citation = False\n",
    "\n",
    "        else:\n",
    "            raise ValueError(f'Not sure what to do for {\"/\".join(citation_elements)}')\n",
    "\n",
    "        if valid_citation:\n",
    "            citation_url = '/'.join(citation_elements)\n",
    "            citation_url += '/data.xht?view=snippet&wrap=true'\n",
    "            urls.append(citation_url)\n",
    "    return urls"
   ],
   "metadata": {
    "collapsed": false,
    "pycharm": {
     "name": "#%%\n"
    }
   }
  },
  {
   "cell_type": "markdown",
   "source": [
    "## Graph Generation"
   ],
   "metadata": {
    "collapsed": false
   }
  },
  {
   "cell_type": "markdown",
   "source": [
    "### Creation of CSV File"
   ],
   "metadata": {
    "collapsed": false
   }
  },
  {
   "cell_type": "code",
   "execution_count": null,
   "outputs": [],
   "source": [
    "def create_graph(header=None):\n",
    "    if not (os.path.exists(CITATION_NETWORK_FILE_PATH)):\n",
    "        if header is None:\n",
    "            header = ['source','target','relation']\n",
    "        with open(CITATION_NETWORK_FILE_PATH, 'w') as f:\n",
    "            csv_writer = csv.writer(f)\n",
    "            csv_writer.writerow(header)"
   ],
   "metadata": {
    "collapsed": false,
    "pycharm": {
     "name": "#%%\n"
    }
   }
  },
  {
   "cell_type": "markdown",
   "source": [
    "### Amending to CSV File"
   ],
   "metadata": {
    "collapsed": false
   }
  },
  {
   "cell_type": "code",
   "execution_count": null,
   "outputs": [],
   "source": [
    "def save_graph(doc_id, citation_urls, labels):\n",
    "    with open(CITATION_NETWORK_FILE_PATH, 'a') as f:\n",
    "        csv_writer = csv.writer(f)\n",
    "        doc_id=doc_id.replace(',','')\n",
    "        for i, url in enumerate(citation_urls):\n",
    "            url = url.replace(',','')\n",
    "            url_list = url.split('/')\n",
    "            target_url = f'{url_list[3]}_{url_list[4]}_{url_list[5]}'\n",
    "            row = [doc_id, target_url, labels[i]]\n",
    "            csv_writer.writerow(row)"
   ],
   "metadata": {
    "collapsed": false,
    "pycharm": {
     "name": "#%%\n"
    }
   }
  },
  {
   "cell_type": "markdown",
   "source": [
    "## Main Program"
   ],
   "metadata": {
    "collapsed": false
   }
  },
  {
   "cell_type": "code",
   "execution_count": null,
   "outputs": [],
   "source": [
    "for file in legislation_list:\n",
    "    doc_id = f'{file[0].lower()}/{file[1]}/{file[2]}'\n",
    "    try:\n",
    "        print(f'Opening: {doc_id}')\n",
    "        soup = get_from_url(doc_id)\n",
    "        citations = get_citations(soup)\n",
    "        print(f'    Found {len(citations)} citations in document')\n",
    "        if len(citations) != 0:\n",
    "            labelled_citations = label_citations(citations, get_parent_text(citations))\n",
    "            print(f'    Labelled {len(labelled_citations)} citations in document')\n",
    "            if len(labelled_citations) != len(citations):\n",
    "                print(f'    {len(citations) - len(labelled_citations)} citations not labelled')\n",
    "\n",
    "            if len(labelled_citations) == 0:\n",
    "                print(get_parent_text(citations))\n",
    "            else:\n",
    "                citation_urls = get_data_urls([labelled_citations[i][1] for i, _ in enumerate(labelled_citations)])\n",
    "                labels = [labelled_citations[i][0] for i, _ in enumerate(labelled_citations)]\n",
    "                save_graph(doc_id.replace('/','_'), citation_urls, labels)\n",
    "                print(f'    Successfully saved citations to CSV file')\n",
    "        print()\n",
    "\n",
    "    except Exception as e:\n",
    "        print(f'\\n\"{doc_id}\" failed\\n')\n",
    "        e.with_traceback()\n",
    "        break"
   ],
   "metadata": {
    "collapsed": false,
    "pycharm": {
     "name": "#%%\n"
    }
   }
  }
 ],
 "metadata": {
  "kernelspec": {
   "display_name": "Python 3",
   "language": "python",
   "name": "python3"
  },
  "language_info": {
   "codemirror_mode": {
    "name": "ipython",
    "version": 2
   },
   "file_extension": ".py",
   "mimetype": "text/x-python",
   "name": "python",
   "nbconvert_exporter": "python",
   "pygments_lexer": "ipython2",
   "version": "2.7.6"
  }
 },
 "nbformat": 4,
 "nbformat_minor": 0
}